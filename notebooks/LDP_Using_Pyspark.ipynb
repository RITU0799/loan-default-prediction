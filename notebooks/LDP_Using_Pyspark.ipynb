{
  "cells": [
    {
      "cell_type": "code",
      "execution_count": 1,
      "metadata": {
        "colab": {
          "base_uri": "https://localhost:8080/"
        },
        "id": "fLpOJa4ctYIx",
        "outputId": "df2443c6-668c-4cfa-9421-f69b713a97ae"
      },
      "outputs": [
        {
          "output_type": "stream",
          "name": "stdout",
          "text": [
            "Mounted at /content/drive\n"
          ]
        }
      ],
      "source": [
        "from google.colab import drive\n",
        "drive.mount('/content/drive')"
      ]
    },
    {
      "cell_type": "markdown",
      "metadata": {
        "id": "PzJj0lOxv9iB"
      },
      "source": [
        "# Import Required Libraries"
      ]
    },
    {
      "cell_type": "code",
      "execution_count": 2,
      "metadata": {
        "id": "vUod740ywEO2"
      },
      "outputs": [],
      "source": [
        "from pyspark.sql import SparkSession\n",
        "from pyspark.sql.functions import col\n",
        "from pyspark.sql.functions import regexp_extract, col, isnan, when, count\n",
        "from pyspark.sql.types import DoubleType"
      ]
    },
    {
      "cell_type": "code",
      "execution_count": 3,
      "metadata": {
        "id": "hsnnEtyrwJ7C"
      },
      "outputs": [],
      "source": [
        "# Start Spark session\n",
        "spark = SparkSession.builder.appName(\"LoanDataPrediction\").getOrCreate()"
      ]
    },
    {
      "cell_type": "code",
      "execution_count": 4,
      "metadata": {
        "id": "RvzB3V5EyJvC"
      },
      "outputs": [],
      "source": [
        "# Load dataset\n",
        "df = spark.read.csv(\"/content/drive/MyDrive/Lending_Data/lending_club_loan_two.csv\", header=True, inferSchema=True)"
      ]
    },
    {
      "cell_type": "code",
      "execution_count": 5,
      "metadata": {
        "colab": {
          "base_uri": "https://localhost:8080/"
        },
        "id": "eCFVcaioxBID",
        "outputId": "9bc53b19-f50d-4063-8397-2709f0b92366"
      },
      "outputs": [
        {
          "output_type": "stream",
          "name": "stdout",
          "text": [
            "root\n",
            " |-- loan_amnt: string (nullable = true)\n",
            " |-- term: string (nullable = true)\n",
            " |-- int_rate: double (nullable = true)\n",
            " |-- installment: double (nullable = true)\n",
            " |-- grade: string (nullable = true)\n",
            " |-- sub_grade: string (nullable = true)\n",
            " |-- emp_title: string (nullable = true)\n",
            " |-- emp_length: string (nullable = true)\n",
            " |-- home_ownership: string (nullable = true)\n",
            " |-- annual_inc: double (nullable = true)\n",
            " |-- verification_status: string (nullable = true)\n",
            " |-- issue_d: string (nullable = true)\n",
            " |-- loan_status: string (nullable = true)\n",
            " |-- purpose: string (nullable = true)\n",
            " |-- title: string (nullable = true)\n",
            " |-- dti: string (nullable = true)\n",
            " |-- earliest_cr_line: string (nullable = true)\n",
            " |-- open_acc: string (nullable = true)\n",
            " |-- pub_rec: double (nullable = true)\n",
            " |-- revol_bal: double (nullable = true)\n",
            " |-- revol_util: double (nullable = true)\n",
            " |-- total_acc: double (nullable = true)\n",
            " |-- initial_list_status: string (nullable = true)\n",
            " |-- application_type: string (nullable = true)\n",
            " |-- mort_acc: string (nullable = true)\n",
            " |-- pub_rec_bankruptcies: double (nullable = true)\n",
            " |-- address: string (nullable = true)\n",
            "\n"
          ]
        }
      ],
      "source": [
        "df.printSchema()"
      ]
    },
    {
      "cell_type": "code",
      "execution_count": 6,
      "metadata": {
        "colab": {
          "base_uri": "https://localhost:8080/"
        },
        "id": "v9IQD7631CEs",
        "outputId": "3c60e9de-a0b1-4b34-9cc7-a073bebad072"
      },
      "outputs": [
        {
          "output_type": "stream",
          "name": "stdout",
          "text": [
            "+-----------+----------+--------+-----------+-----+---------+---------------+----------+--------------+----------+-------------------+--------+-----------+------------------+--------------------+-----+----------------+--------+-------+---------+----------+---------+-------------------+----------------+--------+--------------------+--------------------+\n",
            "|  loan_amnt|      term|int_rate|installment|grade|sub_grade|      emp_title|emp_length|home_ownership|annual_inc|verification_status| issue_d|loan_status|           purpose|               title|  dti|earliest_cr_line|open_acc|pub_rec|revol_bal|revol_util|total_acc|initial_list_status|application_type|mort_acc|pub_rec_bankruptcies|             address|\n",
            "+-----------+----------+--------+-----------+-----+---------+---------------+----------+--------------+----------+-------------------+--------+-----------+------------------+--------------------+-----+----------------+--------+-------+---------+----------+---------+-------------------+----------------+--------+--------------------+--------------------+\n",
            "|    10000.0| 36 months|   11.44|     329.48|    B|       B4|      Marketing| 10+ years|          RENT|  117000.0|       Not Verified|Jan-2015| Fully Paid|          vacation|            Vacation|26.24|        Jun-1990|    16.0|    0.0|  36369.0|      41.8|     25.0|                  w|      INDIVIDUAL|     0.0|                 0.0|0174 Michelle Gat...|\n",
            "|Mendozaberg| OK 22690\"|    NULL|       NULL| NULL|     NULL|           NULL|      NULL|          NULL|      NULL|               NULL|    NULL|       NULL|              NULL|                NULL| NULL|            NULL|    NULL|   NULL|     NULL|      NULL|     NULL|               NULL|            NULL|    NULL|                NULL|                NULL|\n",
            "|     8000.0| 36 months|   11.99|     265.68|    B|       B5|Credit analyst |   4 years|      MORTGAGE|   65000.0|       Not Verified|Jan-2015| Fully Paid|debt_consolidation|  Debt consolidation|22.05|        Jul-2004|    17.0|    0.0|  20131.0|      53.3|     27.0|                  f|      INDIVIDUAL|     3.0|                 0.0|1076 Carney Fort ...|\n",
            "| Loganmouth| SD 05113\"|    NULL|       NULL| NULL|     NULL|           NULL|      NULL|          NULL|      NULL|               NULL|    NULL|       NULL|              NULL|                NULL| NULL|            NULL|    NULL|   NULL|     NULL|      NULL|     NULL|               NULL|            NULL|    NULL|                NULL|                NULL|\n",
            "|    15600.0| 36 months|   10.49|     506.97|    B|       B3|   Statistician|  < 1 year|          RENT|   43057.0|    Source Verified|Jan-2015| Fully Paid|       credit_card|Credit card refin...|12.79|        Aug-2007|    13.0|    0.0|  11987.0|      92.2|     26.0|                  f|      INDIVIDUAL|     0.0|                 0.0|87025 Mark Dale A...|\n",
            "+-----------+----------+--------+-----------+-----+---------+---------------+----------+--------------+----------+-------------------+--------+-----------+------------------+--------------------+-----+----------------+--------+-------+---------+----------+---------+-------------------+----------------+--------+--------------------+--------------------+\n",
            "only showing top 5 rows\n",
            "\n"
          ]
        }
      ],
      "source": [
        "df.show(5)"
      ]
    },
    {
      "cell_type": "code",
      "execution_count": 7,
      "metadata": {
        "colab": {
          "base_uri": "https://localhost:8080/"
        },
        "id": "joX2JTJk1CBN",
        "outputId": "0ed25ad4-b4de-4e8c-d1b6-8f4562657219"
      },
      "outputs": [
        {
          "output_type": "execute_result",
          "data": {
            "text/plain": [
              "DataFrame[summary: string, loan_amnt: string, term: string, int_rate: string, installment: string, grade: string, sub_grade: string, emp_title: string, emp_length: string, home_ownership: string, annual_inc: string, verification_status: string, issue_d: string, loan_status: string, purpose: string, title: string, dti: string, earliest_cr_line: string, open_acc: string, pub_rec: string, revol_bal: string, revol_util: string, total_acc: string, initial_list_status: string, application_type: string, mort_acc: string, pub_rec_bankruptcies: string, address: string]"
            ]
          },
          "metadata": {},
          "execution_count": 7
        }
      ],
      "source": [
        "df.describe()"
      ]
    },
    {
      "cell_type": "markdown",
      "metadata": {
        "id": "P57Db1j41dZT"
      },
      "source": [
        "#Feature Engineering"
      ]
    },
    {
      "cell_type": "code",
      "execution_count": 8,
      "metadata": {
        "id": "4C4CORF51B-C"
      },
      "outputs": [],
      "source": [
        "# 1. Extract zipcode from address\n",
        "df = df.withColumn(\"zip_code\", regexp_extract(col(\"address\"), r'([A-Z]{2}\\s*\\d{5})$', 1))"
      ]
    },
    {
      "cell_type": "code",
      "execution_count": 9,
      "metadata": {
        "colab": {
          "base_uri": "https://localhost:8080/"
        },
        "id": "Q1dLyKmk1BvX",
        "outputId": "99f927cf-aae1-4d18-d837-7386e8236b1f"
      },
      "outputs": [
        {
          "output_type": "stream",
          "name": "stdout",
          "text": [
            "root\n",
            " |-- loan_amnt: string (nullable = true)\n",
            " |-- term: string (nullable = true)\n",
            " |-- int_rate: double (nullable = true)\n",
            " |-- installment: double (nullable = true)\n",
            " |-- grade: string (nullable = true)\n",
            " |-- sub_grade: string (nullable = true)\n",
            " |-- emp_title: string (nullable = true)\n",
            " |-- emp_length: string (nullable = true)\n",
            " |-- home_ownership: string (nullable = true)\n",
            " |-- annual_inc: double (nullable = true)\n",
            " |-- verification_status: string (nullable = true)\n",
            " |-- issue_d: string (nullable = true)\n",
            " |-- loan_status: string (nullable = true)\n",
            " |-- purpose: string (nullable = true)\n",
            " |-- title: string (nullable = true)\n",
            " |-- dti: string (nullable = true)\n",
            " |-- earliest_cr_line: string (nullable = true)\n",
            " |-- open_acc: string (nullable = true)\n",
            " |-- pub_rec: double (nullable = true)\n",
            " |-- revol_bal: double (nullable = true)\n",
            " |-- revol_util: double (nullable = true)\n",
            " |-- total_acc: double (nullable = true)\n",
            " |-- initial_list_status: string (nullable = true)\n",
            " |-- application_type: string (nullable = true)\n",
            " |-- mort_acc: string (nullable = true)\n",
            " |-- pub_rec_bankruptcies: double (nullable = true)\n",
            " |-- address: string (nullable = true)\n",
            " |-- zip_code: string (nullable = true)\n",
            "\n"
          ]
        }
      ],
      "source": [
        "df.printSchema()"
      ]
    },
    {
      "cell_type": "markdown",
      "metadata": {
        "id": "PYijWTVBePb2"
      },
      "source": [
        "#Data Cleaning"
      ]
    },
    {
      "cell_type": "code",
      "execution_count": 10,
      "metadata": {
        "id": "r7spFwON2oh9"
      },
      "outputs": [],
      "source": [
        "# 4. Drop rows with missing values in key columns\n",
        "df = df.dropna(subset=['emp_length', 'mort_acc', 'pub_rec_bankruptcies'])"
      ]
    },
    {
      "cell_type": "code",
      "execution_count": 11,
      "metadata": {
        "id": "raxAE-ob2uVC"
      },
      "outputs": [],
      "source": [
        "# 5. Filter out rows where important columns are zero\n",
        "df = df.filter((col('annual_inc') != 0) &\n",
        "               (col('revol_bal') != 0) &\n",
        "               (col('revol_util') != 0))"
      ]
    },
    {
      "cell_type": "code",
      "execution_count": 12,
      "metadata": {
        "id": "8mSiua3f2wC1"
      },
      "outputs": [],
      "source": [
        "# 6. Remove 'NONE' and 'OTHER' values from home_ownership\n",
        "df = df.filter(~col('home_ownership').isin(['NONE', 'OTHER']))"
      ]
    },
    {
      "cell_type": "code",
      "execution_count": 13,
      "metadata": {
        "colab": {
          "base_uri": "https://localhost:8080/"
        },
        "id": "i9D0_WzR2ZB0",
        "outputId": "1ee1aedc-51ec-474f-f2c8-363081a7fdf0"
      },
      "outputs": [
        {
          "output_type": "stream",
          "name": "stdout",
          "text": [
            "Number of rows: 339433\n",
            "Number of columns: 28\n"
          ]
        }
      ],
      "source": [
        "print(f\"Number of rows: {df.count()}\")\n",
        "print(f\"Number of columns: {len(df.columns)}\")"
      ]
    },
    {
      "cell_type": "markdown",
      "metadata": {
        "id": "Agaj8SireTfv"
      },
      "source": [
        "#Plot Outliers"
      ]
    },
    {
      "cell_type": "code",
      "execution_count": 14,
      "metadata": {
        "colab": {
          "base_uri": "https://localhost:8080/"
        },
        "id": "I2Sa384Hcn_p",
        "outputId": "98e84791-8a00-4eec-8d4c-e51445a64811"
      },
      "outputs": [
        {
          "output_type": "execute_result",
          "data": {
            "text/plain": [
              "['int_rate',\n",
              " 'installment',\n",
              " 'grade',\n",
              " 'sub_grade',\n",
              " 'emp_title',\n",
              " 'emp_length',\n",
              " 'home_ownership',\n",
              " 'annual_inc',\n",
              " 'verification_status',\n",
              " 'issue_d',\n",
              " 'loan_status',\n",
              " 'purpose',\n",
              " 'title',\n",
              " 'dti',\n",
              " 'earliest_cr_line',\n",
              " 'open_acc',\n",
              " 'pub_rec',\n",
              " 'revol_bal',\n",
              " 'revol_util',\n",
              " 'total_acc',\n",
              " 'initial_list_status',\n",
              " 'application_type',\n",
              " 'mort_acc',\n",
              " 'pub_rec_bankruptcies',\n",
              " 'address',\n",
              " 'zip_code']"
            ]
          },
          "metadata": {},
          "execution_count": 14
        }
      ],
      "source": [
        "numeric_cols = df.columns[2:]\n",
        "numeric_cols"
      ]
    },
    {
      "cell_type": "code",
      "execution_count": 15,
      "metadata": {
        "id": "TBpeMXrtcnr6"
      },
      "outputs": [],
      "source": [
        "from pyspark.sql import functions as f\n",
        "from pyspark.sql.types import IntegerType, DoubleType # Import DoubleType\n",
        "\n",
        "# List of columns that should be treated as numeric\n",
        "true_numeric_cols = ['int_rate', 'installment', 'annual_inc', 'revol_bal', 'revol_util', 'pub_rec', 'total_acc', 'pub_rec_bankruptcies']\n",
        "\n",
        "for column in true_numeric_cols:\n",
        "    df = df.withColumn(column,f.col(column).cast(DoubleType()))\n",
        "\n",
        "# Keep other columns as they are (including those incorrectly cast to int previously)\n",
        "# The find_outliers function will filter for numeric types based on the schema after this casting"
      ]
    },
    {
      "cell_type": "code",
      "execution_count": 16,
      "metadata": {
        "colab": {
          "base_uri": "https://localhost:8080/"
        },
        "id": "2ab4GnPPet3E",
        "outputId": "03438a3c-782e-484f-ae8c-323a3ca8f2ea"
      },
      "outputs": [
        {
          "output_type": "stream",
          "name": "stdout",
          "text": [
            "root\n",
            " |-- loan_amnt: string (nullable = true)\n",
            " |-- term: string (nullable = true)\n",
            " |-- int_rate: double (nullable = true)\n",
            " |-- installment: double (nullable = true)\n",
            " |-- grade: string (nullable = true)\n",
            " |-- sub_grade: string (nullable = true)\n",
            " |-- emp_title: string (nullable = true)\n",
            " |-- emp_length: string (nullable = true)\n",
            " |-- home_ownership: string (nullable = true)\n",
            " |-- annual_inc: double (nullable = true)\n",
            " |-- verification_status: string (nullable = true)\n",
            " |-- issue_d: string (nullable = true)\n",
            " |-- loan_status: string (nullable = true)\n",
            " |-- purpose: string (nullable = true)\n",
            " |-- title: string (nullable = true)\n",
            " |-- dti: string (nullable = true)\n",
            " |-- earliest_cr_line: string (nullable = true)\n",
            " |-- open_acc: string (nullable = true)\n",
            " |-- pub_rec: double (nullable = true)\n",
            " |-- revol_bal: double (nullable = true)\n",
            " |-- revol_util: double (nullable = true)\n",
            " |-- total_acc: double (nullable = true)\n",
            " |-- initial_list_status: string (nullable = true)\n",
            " |-- application_type: string (nullable = true)\n",
            " |-- mort_acc: string (nullable = true)\n",
            " |-- pub_rec_bankruptcies: double (nullable = true)\n",
            " |-- address: string (nullable = true)\n",
            " |-- zip_code: string (nullable = true)\n",
            "\n"
          ]
        }
      ],
      "source": [
        "df.printSchema()"
      ]
    },
    {
      "cell_type": "code",
      "execution_count": 17,
      "metadata": {
        "colab": {
          "base_uri": "https://localhost:8080/",
          "height": 363
        },
        "id": "HGiRDIMaO2Ng",
        "outputId": "f01017c8-47c3-4f8b-da7a-df2902636ac2"
      },
      "outputs": [
        {
          "output_type": "execute_result",
          "data": {
            "text/plain": [
              "   int_rate  installment  annual_inc  revol_bal  revol_util  pub_rec  \\\n",
              "0     11.44       329.48    117000.0    36369.0        41.8      0.0   \n",
              "1     11.99       265.68     65000.0    20131.0        53.3      0.0   \n",
              "2     10.49       506.97     43057.0    11987.0        92.2      0.0   \n",
              "3      6.49       220.65     54000.0     5472.0        21.5      0.0   \n",
              "4     17.27       609.33     55000.0    24584.0        69.8      0.0   \n",
              "5     13.33       677.07     86788.0    25757.0       100.6      0.0   \n",
              "6      5.32       542.07    125000.0     4178.0         4.9      0.0   \n",
              "7     11.14       426.47     46000.0    13425.0        64.5      0.0   \n",
              "8     10.99       410.84    103000.0    18637.0        32.9      0.0   \n",
              "9     16.29       928.40    115000.0    22171.0        82.4      0.0   \n",
              "\n",
              "   total_acc  pub_rec_bankruptcies  \n",
              "0       25.0                   0.0  \n",
              "1       27.0                   0.0  \n",
              "2       26.0                   0.0  \n",
              "3       13.0                   0.0  \n",
              "4       43.0                   0.0  \n",
              "5       23.0                   0.0  \n",
              "6       25.0                   0.0  \n",
              "7       15.0                   0.0  \n",
              "8       40.0                   0.0  \n",
              "9       37.0                   0.0  "
            ],
            "text/html": [
              "\n",
              "  <div id=\"df-6c4a8b2a-51da-4912-a639-14ba70279b15\" class=\"colab-df-container\">\n",
              "    <div>\n",
              "<style scoped>\n",
              "    .dataframe tbody tr th:only-of-type {\n",
              "        vertical-align: middle;\n",
              "    }\n",
              "\n",
              "    .dataframe tbody tr th {\n",
              "        vertical-align: top;\n",
              "    }\n",
              "\n",
              "    .dataframe thead th {\n",
              "        text-align: right;\n",
              "    }\n",
              "</style>\n",
              "<table border=\"1\" class=\"dataframe\">\n",
              "  <thead>\n",
              "    <tr style=\"text-align: right;\">\n",
              "      <th></th>\n",
              "      <th>int_rate</th>\n",
              "      <th>installment</th>\n",
              "      <th>annual_inc</th>\n",
              "      <th>revol_bal</th>\n",
              "      <th>revol_util</th>\n",
              "      <th>pub_rec</th>\n",
              "      <th>total_acc</th>\n",
              "      <th>pub_rec_bankruptcies</th>\n",
              "    </tr>\n",
              "  </thead>\n",
              "  <tbody>\n",
              "    <tr>\n",
              "      <th>0</th>\n",
              "      <td>11.44</td>\n",
              "      <td>329.48</td>\n",
              "      <td>117000.0</td>\n",
              "      <td>36369.0</td>\n",
              "      <td>41.8</td>\n",
              "      <td>0.0</td>\n",
              "      <td>25.0</td>\n",
              "      <td>0.0</td>\n",
              "    </tr>\n",
              "    <tr>\n",
              "      <th>1</th>\n",
              "      <td>11.99</td>\n",
              "      <td>265.68</td>\n",
              "      <td>65000.0</td>\n",
              "      <td>20131.0</td>\n",
              "      <td>53.3</td>\n",
              "      <td>0.0</td>\n",
              "      <td>27.0</td>\n",
              "      <td>0.0</td>\n",
              "    </tr>\n",
              "    <tr>\n",
              "      <th>2</th>\n",
              "      <td>10.49</td>\n",
              "      <td>506.97</td>\n",
              "      <td>43057.0</td>\n",
              "      <td>11987.0</td>\n",
              "      <td>92.2</td>\n",
              "      <td>0.0</td>\n",
              "      <td>26.0</td>\n",
              "      <td>0.0</td>\n",
              "    </tr>\n",
              "    <tr>\n",
              "      <th>3</th>\n",
              "      <td>6.49</td>\n",
              "      <td>220.65</td>\n",
              "      <td>54000.0</td>\n",
              "      <td>5472.0</td>\n",
              "      <td>21.5</td>\n",
              "      <td>0.0</td>\n",
              "      <td>13.0</td>\n",
              "      <td>0.0</td>\n",
              "    </tr>\n",
              "    <tr>\n",
              "      <th>4</th>\n",
              "      <td>17.27</td>\n",
              "      <td>609.33</td>\n",
              "      <td>55000.0</td>\n",
              "      <td>24584.0</td>\n",
              "      <td>69.8</td>\n",
              "      <td>0.0</td>\n",
              "      <td>43.0</td>\n",
              "      <td>0.0</td>\n",
              "    </tr>\n",
              "    <tr>\n",
              "      <th>5</th>\n",
              "      <td>13.33</td>\n",
              "      <td>677.07</td>\n",
              "      <td>86788.0</td>\n",
              "      <td>25757.0</td>\n",
              "      <td>100.6</td>\n",
              "      <td>0.0</td>\n",
              "      <td>23.0</td>\n",
              "      <td>0.0</td>\n",
              "    </tr>\n",
              "    <tr>\n",
              "      <th>6</th>\n",
              "      <td>5.32</td>\n",
              "      <td>542.07</td>\n",
              "      <td>125000.0</td>\n",
              "      <td>4178.0</td>\n",
              "      <td>4.9</td>\n",
              "      <td>0.0</td>\n",
              "      <td>25.0</td>\n",
              "      <td>0.0</td>\n",
              "    </tr>\n",
              "    <tr>\n",
              "      <th>7</th>\n",
              "      <td>11.14</td>\n",
              "      <td>426.47</td>\n",
              "      <td>46000.0</td>\n",
              "      <td>13425.0</td>\n",
              "      <td>64.5</td>\n",
              "      <td>0.0</td>\n",
              "      <td>15.0</td>\n",
              "      <td>0.0</td>\n",
              "    </tr>\n",
              "    <tr>\n",
              "      <th>8</th>\n",
              "      <td>10.99</td>\n",
              "      <td>410.84</td>\n",
              "      <td>103000.0</td>\n",
              "      <td>18637.0</td>\n",
              "      <td>32.9</td>\n",
              "      <td>0.0</td>\n",
              "      <td>40.0</td>\n",
              "      <td>0.0</td>\n",
              "    </tr>\n",
              "    <tr>\n",
              "      <th>9</th>\n",
              "      <td>16.29</td>\n",
              "      <td>928.40</td>\n",
              "      <td>115000.0</td>\n",
              "      <td>22171.0</td>\n",
              "      <td>82.4</td>\n",
              "      <td>0.0</td>\n",
              "      <td>37.0</td>\n",
              "      <td>0.0</td>\n",
              "    </tr>\n",
              "  </tbody>\n",
              "</table>\n",
              "</div>\n",
              "    <div class=\"colab-df-buttons\">\n",
              "\n",
              "  <div class=\"colab-df-container\">\n",
              "    <button class=\"colab-df-convert\" onclick=\"convertToInteractive('df-6c4a8b2a-51da-4912-a639-14ba70279b15')\"\n",
              "            title=\"Convert this dataframe to an interactive table.\"\n",
              "            style=\"display:none;\">\n",
              "\n",
              "  <svg xmlns=\"http://www.w3.org/2000/svg\" height=\"24px\" viewBox=\"0 -960 960 960\">\n",
              "    <path d=\"M120-120v-720h720v720H120Zm60-500h600v-160H180v160Zm220 220h160v-160H400v160Zm0 220h160v-160H400v160ZM180-400h160v-160H180v160Zm440 0h160v-160H620v160ZM180-180h160v-160H180v160Zm440 0h160v-160H620v160Z\"/>\n",
              "  </svg>\n",
              "    </button>\n",
              "\n",
              "  <style>\n",
              "    .colab-df-container {\n",
              "      display:flex;\n",
              "      gap: 12px;\n",
              "    }\n",
              "\n",
              "    .colab-df-convert {\n",
              "      background-color: #E8F0FE;\n",
              "      border: none;\n",
              "      border-radius: 50%;\n",
              "      cursor: pointer;\n",
              "      display: none;\n",
              "      fill: #1967D2;\n",
              "      height: 32px;\n",
              "      padding: 0 0 0 0;\n",
              "      width: 32px;\n",
              "    }\n",
              "\n",
              "    .colab-df-convert:hover {\n",
              "      background-color: #E2EBFA;\n",
              "      box-shadow: 0px 1px 2px rgba(60, 64, 67, 0.3), 0px 1px 3px 1px rgba(60, 64, 67, 0.15);\n",
              "      fill: #174EA6;\n",
              "    }\n",
              "\n",
              "    .colab-df-buttons div {\n",
              "      margin-bottom: 4px;\n",
              "    }\n",
              "\n",
              "    [theme=dark] .colab-df-convert {\n",
              "      background-color: #3B4455;\n",
              "      fill: #D2E3FC;\n",
              "    }\n",
              "\n",
              "    [theme=dark] .colab-df-convert:hover {\n",
              "      background-color: #434B5C;\n",
              "      box-shadow: 0px 1px 3px 1px rgba(0, 0, 0, 0.15);\n",
              "      filter: drop-shadow(0px 1px 2px rgba(0, 0, 0, 0.3));\n",
              "      fill: #FFFFFF;\n",
              "    }\n",
              "  </style>\n",
              "\n",
              "    <script>\n",
              "      const buttonEl =\n",
              "        document.querySelector('#df-6c4a8b2a-51da-4912-a639-14ba70279b15 button.colab-df-convert');\n",
              "      buttonEl.style.display =\n",
              "        google.colab.kernel.accessAllowed ? 'block' : 'none';\n",
              "\n",
              "      async function convertToInteractive(key) {\n",
              "        const element = document.querySelector('#df-6c4a8b2a-51da-4912-a639-14ba70279b15');\n",
              "        const dataTable =\n",
              "          await google.colab.kernel.invokeFunction('convertToInteractive',\n",
              "                                                    [key], {});\n",
              "        if (!dataTable) return;\n",
              "\n",
              "        const docLinkHtml = 'Like what you see? Visit the ' +\n",
              "          '<a target=\"_blank\" href=https://colab.research.google.com/notebooks/data_table.ipynb>data table notebook</a>'\n",
              "          + ' to learn more about interactive tables.';\n",
              "        element.innerHTML = '';\n",
              "        dataTable['output_type'] = 'display_data';\n",
              "        await google.colab.output.renderOutput(dataTable, element);\n",
              "        const docLink = document.createElement('div');\n",
              "        docLink.innerHTML = docLinkHtml;\n",
              "        element.appendChild(docLink);\n",
              "      }\n",
              "    </script>\n",
              "  </div>\n",
              "\n",
              "\n",
              "    <div id=\"df-e1297dce-ae00-4026-9bba-e1d659d0fbf0\">\n",
              "      <button class=\"colab-df-quickchart\" onclick=\"quickchart('df-e1297dce-ae00-4026-9bba-e1d659d0fbf0')\"\n",
              "                title=\"Suggest charts\"\n",
              "                style=\"display:none;\">\n",
              "\n",
              "<svg xmlns=\"http://www.w3.org/2000/svg\" height=\"24px\"viewBox=\"0 0 24 24\"\n",
              "     width=\"24px\">\n",
              "    <g>\n",
              "        <path d=\"M19 3H5c-1.1 0-2 .9-2 2v14c0 1.1.9 2 2 2h14c1.1 0 2-.9 2-2V5c0-1.1-.9-2-2-2zM9 17H7v-7h2v7zm4 0h-2V7h2v10zm4 0h-2v-4h2v4z\"/>\n",
              "    </g>\n",
              "</svg>\n",
              "      </button>\n",
              "\n",
              "<style>\n",
              "  .colab-df-quickchart {\n",
              "      --bg-color: #E8F0FE;\n",
              "      --fill-color: #1967D2;\n",
              "      --hover-bg-color: #E2EBFA;\n",
              "      --hover-fill-color: #174EA6;\n",
              "      --disabled-fill-color: #AAA;\n",
              "      --disabled-bg-color: #DDD;\n",
              "  }\n",
              "\n",
              "  [theme=dark] .colab-df-quickchart {\n",
              "      --bg-color: #3B4455;\n",
              "      --fill-color: #D2E3FC;\n",
              "      --hover-bg-color: #434B5C;\n",
              "      --hover-fill-color: #FFFFFF;\n",
              "      --disabled-bg-color: #3B4455;\n",
              "      --disabled-fill-color: #666;\n",
              "  }\n",
              "\n",
              "  .colab-df-quickchart {\n",
              "    background-color: var(--bg-color);\n",
              "    border: none;\n",
              "    border-radius: 50%;\n",
              "    cursor: pointer;\n",
              "    display: none;\n",
              "    fill: var(--fill-color);\n",
              "    height: 32px;\n",
              "    padding: 0;\n",
              "    width: 32px;\n",
              "  }\n",
              "\n",
              "  .colab-df-quickchart:hover {\n",
              "    background-color: var(--hover-bg-color);\n",
              "    box-shadow: 0 1px 2px rgba(60, 64, 67, 0.3), 0 1px 3px 1px rgba(60, 64, 67, 0.15);\n",
              "    fill: var(--button-hover-fill-color);\n",
              "  }\n",
              "\n",
              "  .colab-df-quickchart-complete:disabled,\n",
              "  .colab-df-quickchart-complete:disabled:hover {\n",
              "    background-color: var(--disabled-bg-color);\n",
              "    fill: var(--disabled-fill-color);\n",
              "    box-shadow: none;\n",
              "  }\n",
              "\n",
              "  .colab-df-spinner {\n",
              "    border: 2px solid var(--fill-color);\n",
              "    border-color: transparent;\n",
              "    border-bottom-color: var(--fill-color);\n",
              "    animation:\n",
              "      spin 1s steps(1) infinite;\n",
              "  }\n",
              "\n",
              "  @keyframes spin {\n",
              "    0% {\n",
              "      border-color: transparent;\n",
              "      border-bottom-color: var(--fill-color);\n",
              "      border-left-color: var(--fill-color);\n",
              "    }\n",
              "    20% {\n",
              "      border-color: transparent;\n",
              "      border-left-color: var(--fill-color);\n",
              "      border-top-color: var(--fill-color);\n",
              "    }\n",
              "    30% {\n",
              "      border-color: transparent;\n",
              "      border-left-color: var(--fill-color);\n",
              "      border-top-color: var(--fill-color);\n",
              "      border-right-color: var(--fill-color);\n",
              "    }\n",
              "    40% {\n",
              "      border-color: transparent;\n",
              "      border-right-color: var(--fill-color);\n",
              "      border-top-color: var(--fill-color);\n",
              "    }\n",
              "    60% {\n",
              "      border-color: transparent;\n",
              "      border-right-color: var(--fill-color);\n",
              "    }\n",
              "    80% {\n",
              "      border-color: transparent;\n",
              "      border-right-color: var(--fill-color);\n",
              "      border-bottom-color: var(--fill-color);\n",
              "    }\n",
              "    90% {\n",
              "      border-color: transparent;\n",
              "      border-bottom-color: var(--fill-color);\n",
              "    }\n",
              "  }\n",
              "</style>\n",
              "\n",
              "      <script>\n",
              "        async function quickchart(key) {\n",
              "          const quickchartButtonEl =\n",
              "            document.querySelector('#' + key + ' button');\n",
              "          quickchartButtonEl.disabled = true;  // To prevent multiple clicks.\n",
              "          quickchartButtonEl.classList.add('colab-df-spinner');\n",
              "          try {\n",
              "            const charts = await google.colab.kernel.invokeFunction(\n",
              "                'suggestCharts', [key], {});\n",
              "          } catch (error) {\n",
              "            console.error('Error during call to suggestCharts:', error);\n",
              "          }\n",
              "          quickchartButtonEl.classList.remove('colab-df-spinner');\n",
              "          quickchartButtonEl.classList.add('colab-df-quickchart-complete');\n",
              "        }\n",
              "        (() => {\n",
              "          let quickchartButtonEl =\n",
              "            document.querySelector('#df-e1297dce-ae00-4026-9bba-e1d659d0fbf0 button');\n",
              "          quickchartButtonEl.style.display =\n",
              "            google.colab.kernel.accessAllowed ? 'block' : 'none';\n",
              "        })();\n",
              "      </script>\n",
              "    </div>\n",
              "\n",
              "    </div>\n",
              "  </div>\n"
            ],
            "application/vnd.google.colaboratory.intrinsic+json": {
              "type": "dataframe",
              "variable_name": "original_numerical_df"
            }
          },
          "metadata": {},
          "execution_count": 17
        }
      ],
      "source": [
        "original_numerical_df = df.select(*true_numeric_cols).toPandas()\n",
        "\n",
        "original_numerical_df.head(10)"
      ]
    },
    {
      "cell_type": "code",
      "execution_count": 18,
      "metadata": {
        "id": "Tt7xYCMwetwj"
      },
      "outputs": [],
      "source": [
        "from pyspark.sql.types import IntegerType, DoubleType # Import DoubleType\n",
        "\n",
        "def find_outliers(df):\n",
        "    from pyspark.sql.functions import col, when, lit, count, isnan # Import specific functions\n",
        "\n",
        "    # Identifying the numerical columns in a spark dataframe\n",
        "    # Filter for columns that are actually numeric types after casting\n",
        "    numeric_columns = [column[0] for column in df.dtypes if column[1] in ('int', 'double')]\n",
        "\n",
        "    # Using the `for` loop to create new columns by identifying the outliers for each feature\n",
        "    for column in numeric_columns:\n",
        "        print(f\"Processing column: {column}\") # Add this print statement\n",
        "        # Check if the column has non-null values before calculating quantiles\n",
        "        if df.filter(col(column).isNotNull()).count() > 0:\n",
        "            Q1_list = df.approxQuantile(column, [0.25], relativeError=0)\n",
        "            Q3_list = df.approxQuantile(column, [0.75], relativeError=0)\n",
        "\n",
        "            # Check if the quantile lists are not empty\n",
        "            if Q1_list and Q3_list:\n",
        "                Q1 = Q1_list[0]\n",
        "                Q3 = Q3_list[0]\n",
        "\n",
        "                # IQR : Inter Quantile Range\n",
        "                IQR = Q3 - Q1\n",
        "\n",
        "                #selecting the data, with -1.5*IQR to + 1.5*IQR., where param = 1.5 default value\n",
        "                less_Q1 =  Q1 - 1.5*IQR\n",
        "                more_Q3 =  Q3 + 1.5*IQR\n",
        "\n",
        "                isOutlierCol = 'is_outlier_{}'.format(column)\n",
        "\n",
        "                df = df.withColumn(isOutlierCol,when((col(column) > more_Q3) | (col(column) < less_Q1), 1).otherwise(0))\n",
        "            else:\n",
        "                 # If quantiles cannot be calculated, mark all rows as not outliers for this column\n",
        "                 isOutlierCol = 'is_outlier_{}'.format(column)\n",
        "                 df = df.withColumn(isOutlierCol, lit(0))\n",
        "        else:\n",
        "            # If column has no non-null values, mark all rows as not outliers for this column\n",
        "            isOutlierCol = 'is_outlier_{}'.format(column)\n",
        "            df = df.withColumn(isOutlierCol, lit(0))\n",
        "\n",
        "\n",
        "    # Selecting the specific columns which we have added above, to check if there are any outliers\n",
        "    selected_columns = [column for column in df.columns if column.startswith(\"is_outlier\")]\n",
        "\n",
        "    # Adding all the outlier columns into a new colum \"total_outliers\", to see the total number of outliers\n",
        "    if selected_columns: # Check if there are any outlier columns to sum\n",
        "        # Need to sum the columns using a list comprehension with col\n",
        "        df = df.withColumn('total_outliers', sum(col(c) for c in selected_columns))\n",
        "    else:\n",
        "        df = df.withColumn('total_outliers', lit(0))\n",
        "\n",
        "\n",
        "    # Dropping the extra columns created above, just to create nice dataframe., without extra columns\n",
        "    df = df.drop(*[column for column in df.columns if column.startswith(\"is_outlier\")])\n",
        "\n",
        "    return df"
      ]
    },
    {
      "cell_type": "code",
      "execution_count": 19,
      "metadata": {
        "colab": {
          "base_uri": "https://localhost:8080/"
        },
        "id": "fxwiZtvQfEp-",
        "outputId": "0a0a1a72-f457-4e5c-bb19-bb09d3cb0230"
      },
      "outputs": [
        {
          "output_type": "stream",
          "name": "stdout",
          "text": [
            "Processing column: int_rate\n",
            "Processing column: installment\n",
            "Processing column: annual_inc\n",
            "Processing column: pub_rec\n",
            "Processing column: revol_bal\n",
            "Processing column: revol_util\n",
            "Processing column: total_acc\n",
            "Processing column: pub_rec_bankruptcies\n",
            "+---------+----------+--------+-----------+-----+---------+--------------------+----------+--------------+----------+-------------------+--------+-----------+------------------+--------------------+-----+----------------+--------+-------+---------+----------+---------+-------------------+----------------+--------+--------------------+--------------------+--------+--------------+\n",
            "|loan_amnt|      term|int_rate|installment|grade|sub_grade|           emp_title|emp_length|home_ownership|annual_inc|verification_status| issue_d|loan_status|           purpose|               title|  dti|earliest_cr_line|open_acc|pub_rec|revol_bal|revol_util|total_acc|initial_list_status|application_type|mort_acc|pub_rec_bankruptcies|             address|zip_code|total_outliers|\n",
            "+---------+----------+--------+-----------+-----+---------+--------------------+----------+--------------+----------+-------------------+--------+-----------+------------------+--------------------+-----+----------------+--------+-------+---------+----------+---------+-------------------+----------------+--------+--------------------+--------------------+--------+--------------+\n",
            "|  10000.0| 36 months|   11.44|     329.48|    B|       B4|           Marketing| 10+ years|          RENT|  117000.0|       Not Verified|Jan-2015| Fully Paid|          vacation|            Vacation|26.24|        Jun-1990|    16.0|    0.0|  36369.0|      41.8|     25.0|                  w|      INDIVIDUAL|     0.0|                 0.0|0174 Michelle Gat...|        |             0|\n",
            "|   8000.0| 36 months|   11.99|     265.68|    B|       B5|     Credit analyst |   4 years|      MORTGAGE|   65000.0|       Not Verified|Jan-2015| Fully Paid|debt_consolidation|  Debt consolidation|22.05|        Jul-2004|    17.0|    0.0|  20131.0|      53.3|     27.0|                  f|      INDIVIDUAL|     3.0|                 0.0|1076 Carney Fort ...|        |             0|\n",
            "|  15600.0| 36 months|   10.49|     506.97|    B|       B3|        Statistician|  < 1 year|          RENT|   43057.0|    Source Verified|Jan-2015| Fully Paid|       credit_card|Credit card refin...|12.79|        Aug-2007|    13.0|    0.0|  11987.0|      92.2|     26.0|                  f|      INDIVIDUAL|     0.0|                 0.0|87025 Mark Dale A...|        |             0|\n",
            "|   7200.0| 36 months|    6.49|     220.65|    A|       A2|     Client Advocate|   6 years|          RENT|   54000.0|       Not Verified|Nov-2014| Fully Paid|       credit_card|Credit card refin...|  2.6|        Sep-2006|     6.0|    0.0|   5472.0|      21.5|     13.0|                  f|      INDIVIDUAL|     0.0|                 0.0|       823 Reid Ford|        |             0|\n",
            "|  24375.0| 60 months|   17.27|     609.33|    C|       C5|Destiny Managemen...|   9 years|      MORTGAGE|   55000.0|           Verified|Apr-2013|Charged Off|       credit_card|Credit Card Refin...|33.95|        Mar-1999|    13.0|    0.0|  24584.0|      69.8|     43.0|                  f|      INDIVIDUAL|     1.0|                 0.0|      679 Luna Roads|        |             0|\n",
            "|  20000.0| 36 months|   13.33|     677.07|    C|       C3|       HR Specialist| 10+ years|      MORTGAGE|   86788.0|           Verified|Sep-2015| Fully Paid|debt_consolidation|  Debt consolidation|16.31|        Jan-2005|     8.0|    0.0|  25757.0|     100.6|     23.0|                  f|      INDIVIDUAL|     4.0|                 0.0|1726 Cooper Passa...|        |             0|\n",
            "|  18000.0| 36 months|    5.32|     542.07|    A|       A1|Software Developm...|   2 years|      MORTGAGE|  125000.0|    Source Verified|Sep-2015| Fully Paid|  home_improvement|    Home improvement| 1.36|        Aug-2005|     8.0|    0.0|   4178.0|       4.9|     25.0|                  f|      INDIVIDUAL|     3.0|                 0.0|1008 Erika Vista ...|        |             0|\n",
            "|  13000.0| 36 months|   11.14|     426.47|    B|       B2|        Office Depot| 10+ years|          RENT|   46000.0|       Not Verified|Sep-2012| Fully Paid|       credit_card|No More Credit Cards|26.87|        Sep-1994|    11.0|    0.0|  13425.0|      64.5|     15.0|                  f|      INDIVIDUAL|     0.0|                 0.0|         USCGC Nunez|        |             0|\n",
            "|  18900.0| 60 months|   10.99|     410.84|    B|       B3|Application Archi...| 10+ years|          RENT|  103000.0|           Verified|Oct-2014| Fully Paid|debt_consolidation|  Debt consolidation|12.52|        Jun-1994|    13.0|    0.0|  18637.0|      32.9|     40.0|                  w|      INDIVIDUAL|     3.0|                 0.0|          USCGC Tran|        |             0|\n",
            "|  26300.0| 36 months|   16.29|      928.4|    C|       C5|  Regado Biosciences|   3 years|      MORTGAGE|  115000.0|           Verified|Apr-2012| Fully Paid|debt_consolidation|  Debt Consolidation|23.69|        Dec-1997|    13.0|    0.0|  22171.0|      82.4|     37.0|                  f|      INDIVIDUAL|     1.0|                 0.0|       3390 Luis Rue|        |             0|\n",
            "|  10000.0| 36 months|   13.11|     337.47|    B|       B4|              Sodexo|   2 years|          RENT|   95000.0|           Verified|Jun-2013| Fully Paid|debt_consolidation|  Debt Consolidation|12.04|        Dec-1990|     5.0|    1.0|   4702.0|      64.4|     26.0|                  f|      INDIVIDUAL|     4.0|                 1.0|   40245 Cody Drives|        |             2|\n",
            "|  35000.0| 36 months|   14.64|    1207.13|    C|       C3|Director Bureau o...|   8 years|      MORTGAGE|  130000.0|           Verified|May-2014| Fully Paid|       credit_card|Credit card refin...|12.19|        May-1984|    30.0|    0.0|  81263.0|      18.7|     61.0|                  w|      INDIVIDUAL|     4.0|                 0.0|3126 Sean Dale Ap...|        |             3|\n",
            "|   7500.0| 36 months|    9.17|      239.1|    B|       B2|Social Work/Care ...|   7 years|           OWN|   55000.0|       Not Verified|Dec-2015| Fully Paid|debt_consolidation|  Debt consolidation|28.21|        Apr-1995|    13.0|    0.0|  17838.0|      54.9|     35.0|                  w|           JOINT|     4.0|                 0.0|4173 David Extension|        |             0|\n",
            "|  35000.0| 60 months|   12.29|      783.7|    C|       C1|    Regional Counsel| 10+ years|      MORTGAGE|  157000.0|           Verified|Apr-2015| Fully Paid|debt_consolidation|  Debt consolidation|29.39|        Jan-1997|    17.0|    0.0| 113091.0|      94.9|     27.0|                  w|      INDIVIDUAL|     2.0|                 0.0|     3343 Wells Mews|        |             2|\n",
            "|  25975.0| 36 months|    6.62|     797.53|    A|       A2|Pullman Regional ...|   9 years|      MORTGAGE|   65000.0|           Verified|Oct-2012| Fully Paid|    small_business|            Business| 9.18|        May-2001|     9.0|    0.0|   5140.0|       7.2|     35.0|                  f|      INDIVIDUAL|     6.0|                 0.0|0472 Weber Manors...|        |             0|\n",
            "|  18000.0| 36 months|    8.39|      567.3|    A|       A5|         firefighter|   8 years|      MORTGAGE|   45000.0|       Not Verified|Jul-2014| Fully Paid|    major_purchase|      Major purchase|12.81|        Sep-1994|     5.0|    0.0|    551.0|      11.7|     23.0|                  w|      INDIVIDUAL|     4.0|                 0.0|11629 Sean Hills ...|        |             0|\n",
            "|  32350.0| 60 months|   21.98|     893.11|    E|       E4|Comcast Corporate...| 10+ years|      MORTGAGE|   72000.0|           Verified|Feb-2013| Fully Paid|debt_consolidation|  Debt consolidation|18.08|        Mar-1982|    16.0|    0.0|  23603.0|      78.4|     22.0|                  f|      INDIVIDUAL|     1.0|                 0.0|407 Briggs Lodge ...|        |             0|\n",
            "|  11200.0| 60 months|   12.29|     250.79|    C|       C1|           principal| 10+ years|      MORTGAGE|   81000.0|       Not Verified|Oct-2015| Fully Paid|debt_consolidation|  Debt consolidation|12.87|        Sep-1996|     6.0|    1.0|   5874.0|      54.9|     20.0|                  w|      INDIVIDUAL|     5.0|                 1.0|487 Jennifer Park...|        |             2|\n",
            "|  34000.0| 36 months|     7.9|    1063.87|    A|       A4|               Pilot| 10+ years|          RENT|  130580.0|           Verified|Jan-2014| Fully Paid|debt_consolidation|  Debt consolidation| 25.4|        Jan-1990|    16.0|    0.0|   8767.0|      11.9|     36.0|                  f|      INDIVIDUAL|     3.0|                 0.0|      254 Mary Ferry|        |             0|\n",
            "|  20000.0| 36 months|    6.97|     617.27|    A|       A3|    Registered Nurse|   7 years|      MORTGAGE|   85000.0|       Not Verified|Mar-2016| Fully Paid|debt_consolidation|  Debt consolidation| 18.8|        Mar-2000|    15.0|    0.0|  24195.0|      55.7|     38.0|                  w|      INDIVIDUAL|     1.0|                 0.0|  Unit 8386 Box 5821|        |             0|\n",
            "+---------+----------+--------+-----------+-----+---------+--------------------+----------+--------------+----------+-------------------+--------+-----------+------------------+--------------------+-----+----------------+--------+-------+---------+----------+---------+-------------------+----------------+--------+--------------------+--------------------+--------+--------------+\n",
            "only showing top 20 rows\n",
            "\n"
          ]
        }
      ],
      "source": [
        "new_df = find_outliers(df)\n",
        "new_df.show()"
      ]
    },
    {
      "cell_type": "code",
      "execution_count": 20,
      "metadata": {
        "colab": {
          "base_uri": "https://localhost:8080/"
        },
        "id": "HW7Y27khfEmk",
        "outputId": "c902f786-bad9-40c9-9f98-324554ce8dc1"
      },
      "outputs": [
        {
          "output_type": "stream",
          "name": "stdout",
          "text": [
            "+---------+----------+--------+-----------+-----+---------+--------------------+----------+--------------+----------+-------------------+--------+-----------+------------------+--------------------+-----+----------------+--------+-------+---------+----------+---------+-------------------+----------------+--------+--------------------+--------------------+--------+\n",
            "|loan_amnt|      term|int_rate|installment|grade|sub_grade|           emp_title|emp_length|home_ownership|annual_inc|verification_status| issue_d|loan_status|           purpose|               title|  dti|earliest_cr_line|open_acc|pub_rec|revol_bal|revol_util|total_acc|initial_list_status|application_type|mort_acc|pub_rec_bankruptcies|             address|zip_code|\n",
            "+---------+----------+--------+-----------+-----+---------+--------------------+----------+--------------+----------+-------------------+--------+-----------+------------------+--------------------+-----+----------------+--------+-------+---------+----------+---------+-------------------+----------------+--------+--------------------+--------------------+--------+\n",
            "|  10000.0| 36 months|   11.44|     329.48|    B|       B4|           Marketing| 10+ years|          RENT|  117000.0|       Not Verified|Jan-2015| Fully Paid|          vacation|            Vacation|26.24|        Jun-1990|    16.0|    0.0|  36369.0|      41.8|     25.0|                  w|      INDIVIDUAL|     0.0|                 0.0|0174 Michelle Gat...|        |\n",
            "|   8000.0| 36 months|   11.99|     265.68|    B|       B5|     Credit analyst |   4 years|      MORTGAGE|   65000.0|       Not Verified|Jan-2015| Fully Paid|debt_consolidation|  Debt consolidation|22.05|        Jul-2004|    17.0|    0.0|  20131.0|      53.3|     27.0|                  f|      INDIVIDUAL|     3.0|                 0.0|1076 Carney Fort ...|        |\n",
            "|  15600.0| 36 months|   10.49|     506.97|    B|       B3|        Statistician|  < 1 year|          RENT|   43057.0|    Source Verified|Jan-2015| Fully Paid|       credit_card|Credit card refin...|12.79|        Aug-2007|    13.0|    0.0|  11987.0|      92.2|     26.0|                  f|      INDIVIDUAL|     0.0|                 0.0|87025 Mark Dale A...|        |\n",
            "|   7200.0| 36 months|    6.49|     220.65|    A|       A2|     Client Advocate|   6 years|          RENT|   54000.0|       Not Verified|Nov-2014| Fully Paid|       credit_card|Credit card refin...|  2.6|        Sep-2006|     6.0|    0.0|   5472.0|      21.5|     13.0|                  f|      INDIVIDUAL|     0.0|                 0.0|       823 Reid Ford|        |\n",
            "|  24375.0| 60 months|   17.27|     609.33|    C|       C5|Destiny Managemen...|   9 years|      MORTGAGE|   55000.0|           Verified|Apr-2013|Charged Off|       credit_card|Credit Card Refin...|33.95|        Mar-1999|    13.0|    0.0|  24584.0|      69.8|     43.0|                  f|      INDIVIDUAL|     1.0|                 0.0|      679 Luna Roads|        |\n",
            "|  20000.0| 36 months|   13.33|     677.07|    C|       C3|       HR Specialist| 10+ years|      MORTGAGE|   86788.0|           Verified|Sep-2015| Fully Paid|debt_consolidation|  Debt consolidation|16.31|        Jan-2005|     8.0|    0.0|  25757.0|     100.6|     23.0|                  f|      INDIVIDUAL|     4.0|                 0.0|1726 Cooper Passa...|        |\n",
            "|  18000.0| 36 months|    5.32|     542.07|    A|       A1|Software Developm...|   2 years|      MORTGAGE|  125000.0|    Source Verified|Sep-2015| Fully Paid|  home_improvement|    Home improvement| 1.36|        Aug-2005|     8.0|    0.0|   4178.0|       4.9|     25.0|                  f|      INDIVIDUAL|     3.0|                 0.0|1008 Erika Vista ...|        |\n",
            "|  13000.0| 36 months|   11.14|     426.47|    B|       B2|        Office Depot| 10+ years|          RENT|   46000.0|       Not Verified|Sep-2012| Fully Paid|       credit_card|No More Credit Cards|26.87|        Sep-1994|    11.0|    0.0|  13425.0|      64.5|     15.0|                  f|      INDIVIDUAL|     0.0|                 0.0|         USCGC Nunez|        |\n",
            "|  18900.0| 60 months|   10.99|     410.84|    B|       B3|Application Archi...| 10+ years|          RENT|  103000.0|           Verified|Oct-2014| Fully Paid|debt_consolidation|  Debt consolidation|12.52|        Jun-1994|    13.0|    0.0|  18637.0|      32.9|     40.0|                  w|      INDIVIDUAL|     3.0|                 0.0|          USCGC Tran|        |\n",
            "|  26300.0| 36 months|   16.29|      928.4|    C|       C5|  Regado Biosciences|   3 years|      MORTGAGE|  115000.0|           Verified|Apr-2012| Fully Paid|debt_consolidation|  Debt Consolidation|23.69|        Dec-1997|    13.0|    0.0|  22171.0|      82.4|     37.0|                  f|      INDIVIDUAL|     1.0|                 0.0|       3390 Luis Rue|        |\n",
            "|   7500.0| 36 months|    9.17|      239.1|    B|       B2|Social Work/Care ...|   7 years|           OWN|   55000.0|       Not Verified|Dec-2015| Fully Paid|debt_consolidation|  Debt consolidation|28.21|        Apr-1995|    13.0|    0.0|  17838.0|      54.9|     35.0|                  w|           JOINT|     4.0|                 0.0|4173 David Extension|        |\n",
            "|  25975.0| 36 months|    6.62|     797.53|    A|       A2|Pullman Regional ...|   9 years|      MORTGAGE|   65000.0|           Verified|Oct-2012| Fully Paid|    small_business|            Business| 9.18|        May-2001|     9.0|    0.0|   5140.0|       7.2|     35.0|                  f|      INDIVIDUAL|     6.0|                 0.0|0472 Weber Manors...|        |\n",
            "|  18000.0| 36 months|    8.39|      567.3|    A|       A5|         firefighter|   8 years|      MORTGAGE|   45000.0|       Not Verified|Jul-2014| Fully Paid|    major_purchase|      Major purchase|12.81|        Sep-1994|     5.0|    0.0|    551.0|      11.7|     23.0|                  w|      INDIVIDUAL|     4.0|                 0.0|11629 Sean Hills ...|        |\n",
            "|  32350.0| 60 months|   21.98|     893.11|    E|       E4|Comcast Corporate...| 10+ years|      MORTGAGE|   72000.0|           Verified|Feb-2013| Fully Paid|debt_consolidation|  Debt consolidation|18.08|        Mar-1982|    16.0|    0.0|  23603.0|      78.4|     22.0|                  f|      INDIVIDUAL|     1.0|                 0.0|407 Briggs Lodge ...|        |\n",
            "|  34000.0| 36 months|     7.9|    1063.87|    A|       A4|               Pilot| 10+ years|          RENT|  130580.0|           Verified|Jan-2014| Fully Paid|debt_consolidation|  Debt consolidation| 25.4|        Jan-1990|    16.0|    0.0|   8767.0|      11.9|     36.0|                  f|      INDIVIDUAL|     3.0|                 0.0|      254 Mary Ferry|        |\n",
            "|  20000.0| 36 months|    6.97|     617.27|    A|       A3|    Registered Nurse|   7 years|      MORTGAGE|   85000.0|       Not Verified|Mar-2016| Fully Paid|debt_consolidation|  Debt consolidation| 18.8|        Mar-2000|    15.0|    0.0|  24195.0|      55.7|     38.0|                  w|      INDIVIDUAL|     1.0|                 0.0|  Unit 8386 Box 5821|        |\n",
            "|   9200.0| 36 months|    6.62|     282.48|    A|       A2|    Personal Trainer|  < 1 year|          RENT|   65000.0|    Source Verified|Apr-2014| Fully Paid|debt_consolidation|  Debt consolidation|10.81|        Jan-2006|    12.0|    0.0|   6448.0|      22.9|     23.0|                  w|      INDIVIDUAL|     0.0|                 0.0|9930 Darryl Hollo...|        |\n",
            "|   7350.0| 36 months|   13.11|     248.05|    B|       B4|Francis Howell Sc...| 10+ years|      MORTGAGE|   54800.0|       Not Verified|Jun-2013| Fully Paid|debt_consolidation|Debt Consolidatio...| 7.47|        Mar-1999|    10.0|    0.0|   3240.0|      37.2|     36.0|                  f|      INDIVIDUAL|     6.0|                 0.0|0224 Kenneth Junc...|        |\n",
            "|  20000.0| 36 months|    8.39|     630.34|    A|       A5|      Office Manager| 10+ years|           OWN|   55000.0|    Source Verified|Oct-2014| Fully Paid|debt_consolidation|  Debt consolidation| 9.23|        Jan-2003|     9.0|    0.0|  21497.0|      43.9|     18.0|                  f|      INDIVIDUAL|     5.0|                 0.0|32520 Shawn Radia...|        |\n",
            "|   5000.0| 36 months|   15.61|     174.83|    D|       D1|  Operations Manager|   5 years|          RENT|   75000.0|           Verified|Sep-2015| Fully Paid|          vacation|            Vacation|13.58|        May-2008|     9.0|    0.0|   3120.0|      19.1|     26.0|                  f|      INDIVIDUAL|     0.0|                 0.0|   25722 Horn Harbor|        |\n",
            "+---------+----------+--------+-----------+-----+---------+--------------------+----------+--------------+----------+-------------------+--------+-----------+------------------+--------------------+-----+----------------+--------+-------+---------+----------+---------+-------------------+----------------+--------+--------------------+--------------------+--------+\n",
            "only showing top 20 rows\n",
            "\n"
          ]
        }
      ],
      "source": [
        "new_df_with_no_outliers = new_df.filter(new_df['total_Outliers']<=1)\n",
        "new_df_with_no_outliers = new_df_with_no_outliers.select(*df.columns)\n",
        "\n",
        "new_df_with_no_outliers.show()"
      ]
    },
    {
      "cell_type": "code",
      "execution_count": 21,
      "metadata": {
        "colab": {
          "base_uri": "https://localhost:8080/"
        },
        "id": "LPXR-zSUfEji",
        "outputId": "9707ec13-cf91-4683-b2a8-b9349dbdca1d"
      },
      "outputs": [
        {
          "output_type": "stream",
          "name": "stdout",
          "text": [
            "Number of rows: 290078\n",
            "Number of columns: 28\n"
          ]
        }
      ],
      "source": [
        "print(f\"Number of rows: {new_df_with_no_outliers.count()}\")\n",
        "print(f\"Number of columns: {len(new_df_with_no_outliers.columns)}\")"
      ]
    },
    {
      "cell_type": "code",
      "execution_count": 22,
      "metadata": {
        "colab": {
          "base_uri": "https://localhost:8080/",
          "height": 811
        },
        "id": "ny2plwpNfEgg",
        "outputId": "db314e3f-4c92-46e9-bb4e-8cef71822683"
      },
      "outputs": [
        {
          "output_type": "execute_result",
          "data": {
            "text/plain": [
              "  loan_amnt        term  int_rate  installment grade sub_grade  \\\n",
              "0   10000.0   36 months     11.44       329.48     B        B4   \n",
              "1    8000.0   36 months     11.99       265.68     B        B5   \n",
              "2   15600.0   36 months     10.49       506.97     B        B3   \n",
              "3    7200.0   36 months      6.49       220.65     A        A2   \n",
              "4   24375.0   60 months     17.27       609.33     C        C5   \n",
              "5   20000.0   36 months     13.33       677.07     C        C3   \n",
              "6   18000.0   36 months      5.32       542.07     A        A1   \n",
              "7   13000.0   36 months     11.14       426.47     B        B2   \n",
              "8   18900.0   60 months     10.99       410.84     B        B3   \n",
              "9   26300.0   36 months     16.29       928.40     C        C5   \n",
              "\n",
              "                       emp_title emp_length home_ownership  annual_inc  ...  \\\n",
              "0                      Marketing  10+ years           RENT    117000.0  ...   \n",
              "1                Credit analyst     4 years       MORTGAGE     65000.0  ...   \n",
              "2                   Statistician   < 1 year           RENT     43057.0  ...   \n",
              "3                Client Advocate    6 years           RENT     54000.0  ...   \n",
              "4        Destiny Management Inc.    9 years       MORTGAGE     55000.0  ...   \n",
              "5                  HR Specialist  10+ years       MORTGAGE     86788.0  ...   \n",
              "6  Software Development Engineer    2 years       MORTGAGE    125000.0  ...   \n",
              "7                   Office Depot  10+ years           RENT     46000.0  ...   \n",
              "8          Application Architect  10+ years           RENT    103000.0  ...   \n",
              "9             Regado Biosciences    3 years       MORTGAGE    115000.0  ...   \n",
              "\n",
              "  pub_rec revol_bal revol_util total_acc initial_list_status application_type  \\\n",
              "0     0.0   36369.0       41.8      25.0                   w       INDIVIDUAL   \n",
              "1     0.0   20131.0       53.3      27.0                   f       INDIVIDUAL   \n",
              "2     0.0   11987.0       92.2      26.0                   f       INDIVIDUAL   \n",
              "3     0.0    5472.0       21.5      13.0                   f       INDIVIDUAL   \n",
              "4     0.0   24584.0       69.8      43.0                   f       INDIVIDUAL   \n",
              "5     0.0   25757.0      100.6      23.0                   f       INDIVIDUAL   \n",
              "6     0.0    4178.0        4.9      25.0                   f       INDIVIDUAL   \n",
              "7     0.0   13425.0       64.5      15.0                   f       INDIVIDUAL   \n",
              "8     0.0   18637.0       32.9      40.0                   w       INDIVIDUAL   \n",
              "9     0.0   22171.0       82.4      37.0                   f       INDIVIDUAL   \n",
              "\n",
              "  mort_acc pub_rec_bankruptcies                        address  zip_code  \n",
              "0      0.0                  0.0          0174 Michelle Gateway            \n",
              "1      3.0                  0.0      1076 Carney Fort Apt. 347            \n",
              "2      0.0                  0.0       87025 Mark Dale Apt. 269            \n",
              "3      0.0                  0.0                  823 Reid Ford            \n",
              "4      1.0                  0.0                 679 Luna Roads            \n",
              "5      4.0                  0.0  1726 Cooper Passage Suite 129            \n",
              "6      3.0                  0.0     1008 Erika Vista Suite 748            \n",
              "7      0.0                  0.0                    USCGC Nunez            \n",
              "8      3.0                  0.0                     USCGC Tran            \n",
              "9      1.0                  0.0                  3390 Luis Rue            \n",
              "\n",
              "[10 rows x 28 columns]"
            ],
            "text/html": [
              "\n",
              "  <div id=\"df-b5b28c9e-ddab-49e2-8342-b5a48e1f77db\" class=\"colab-df-container\">\n",
              "    <div>\n",
              "<style scoped>\n",
              "    .dataframe tbody tr th:only-of-type {\n",
              "        vertical-align: middle;\n",
              "    }\n",
              "\n",
              "    .dataframe tbody tr th {\n",
              "        vertical-align: top;\n",
              "    }\n",
              "\n",
              "    .dataframe thead th {\n",
              "        text-align: right;\n",
              "    }\n",
              "</style>\n",
              "<table border=\"1\" class=\"dataframe\">\n",
              "  <thead>\n",
              "    <tr style=\"text-align: right;\">\n",
              "      <th></th>\n",
              "      <th>loan_amnt</th>\n",
              "      <th>term</th>\n",
              "      <th>int_rate</th>\n",
              "      <th>installment</th>\n",
              "      <th>grade</th>\n",
              "      <th>sub_grade</th>\n",
              "      <th>emp_title</th>\n",
              "      <th>emp_length</th>\n",
              "      <th>home_ownership</th>\n",
              "      <th>annual_inc</th>\n",
              "      <th>...</th>\n",
              "      <th>pub_rec</th>\n",
              "      <th>revol_bal</th>\n",
              "      <th>revol_util</th>\n",
              "      <th>total_acc</th>\n",
              "      <th>initial_list_status</th>\n",
              "      <th>application_type</th>\n",
              "      <th>mort_acc</th>\n",
              "      <th>pub_rec_bankruptcies</th>\n",
              "      <th>address</th>\n",
              "      <th>zip_code</th>\n",
              "    </tr>\n",
              "  </thead>\n",
              "  <tbody>\n",
              "    <tr>\n",
              "      <th>0</th>\n",
              "      <td>10000.0</td>\n",
              "      <td>36 months</td>\n",
              "      <td>11.44</td>\n",
              "      <td>329.48</td>\n",
              "      <td>B</td>\n",
              "      <td>B4</td>\n",
              "      <td>Marketing</td>\n",
              "      <td>10+ years</td>\n",
              "      <td>RENT</td>\n",
              "      <td>117000.0</td>\n",
              "      <td>...</td>\n",
              "      <td>0.0</td>\n",
              "      <td>36369.0</td>\n",
              "      <td>41.8</td>\n",
              "      <td>25.0</td>\n",
              "      <td>w</td>\n",
              "      <td>INDIVIDUAL</td>\n",
              "      <td>0.0</td>\n",
              "      <td>0.0</td>\n",
              "      <td>0174 Michelle Gateway</td>\n",
              "      <td></td>\n",
              "    </tr>\n",
              "    <tr>\n",
              "      <th>1</th>\n",
              "      <td>8000.0</td>\n",
              "      <td>36 months</td>\n",
              "      <td>11.99</td>\n",
              "      <td>265.68</td>\n",
              "      <td>B</td>\n",
              "      <td>B5</td>\n",
              "      <td>Credit analyst</td>\n",
              "      <td>4 years</td>\n",
              "      <td>MORTGAGE</td>\n",
              "      <td>65000.0</td>\n",
              "      <td>...</td>\n",
              "      <td>0.0</td>\n",
              "      <td>20131.0</td>\n",
              "      <td>53.3</td>\n",
              "      <td>27.0</td>\n",
              "      <td>f</td>\n",
              "      <td>INDIVIDUAL</td>\n",
              "      <td>3.0</td>\n",
              "      <td>0.0</td>\n",
              "      <td>1076 Carney Fort Apt. 347</td>\n",
              "      <td></td>\n",
              "    </tr>\n",
              "    <tr>\n",
              "      <th>2</th>\n",
              "      <td>15600.0</td>\n",
              "      <td>36 months</td>\n",
              "      <td>10.49</td>\n",
              "      <td>506.97</td>\n",
              "      <td>B</td>\n",
              "      <td>B3</td>\n",
              "      <td>Statistician</td>\n",
              "      <td>&lt; 1 year</td>\n",
              "      <td>RENT</td>\n",
              "      <td>43057.0</td>\n",
              "      <td>...</td>\n",
              "      <td>0.0</td>\n",
              "      <td>11987.0</td>\n",
              "      <td>92.2</td>\n",
              "      <td>26.0</td>\n",
              "      <td>f</td>\n",
              "      <td>INDIVIDUAL</td>\n",
              "      <td>0.0</td>\n",
              "      <td>0.0</td>\n",
              "      <td>87025 Mark Dale Apt. 269</td>\n",
              "      <td></td>\n",
              "    </tr>\n",
              "    <tr>\n",
              "      <th>3</th>\n",
              "      <td>7200.0</td>\n",
              "      <td>36 months</td>\n",
              "      <td>6.49</td>\n",
              "      <td>220.65</td>\n",
              "      <td>A</td>\n",
              "      <td>A2</td>\n",
              "      <td>Client Advocate</td>\n",
              "      <td>6 years</td>\n",
              "      <td>RENT</td>\n",
              "      <td>54000.0</td>\n",
              "      <td>...</td>\n",
              "      <td>0.0</td>\n",
              "      <td>5472.0</td>\n",
              "      <td>21.5</td>\n",
              "      <td>13.0</td>\n",
              "      <td>f</td>\n",
              "      <td>INDIVIDUAL</td>\n",
              "      <td>0.0</td>\n",
              "      <td>0.0</td>\n",
              "      <td>823 Reid Ford</td>\n",
              "      <td></td>\n",
              "    </tr>\n",
              "    <tr>\n",
              "      <th>4</th>\n",
              "      <td>24375.0</td>\n",
              "      <td>60 months</td>\n",
              "      <td>17.27</td>\n",
              "      <td>609.33</td>\n",
              "      <td>C</td>\n",
              "      <td>C5</td>\n",
              "      <td>Destiny Management Inc.</td>\n",
              "      <td>9 years</td>\n",
              "      <td>MORTGAGE</td>\n",
              "      <td>55000.0</td>\n",
              "      <td>...</td>\n",
              "      <td>0.0</td>\n",
              "      <td>24584.0</td>\n",
              "      <td>69.8</td>\n",
              "      <td>43.0</td>\n",
              "      <td>f</td>\n",
              "      <td>INDIVIDUAL</td>\n",
              "      <td>1.0</td>\n",
              "      <td>0.0</td>\n",
              "      <td>679 Luna Roads</td>\n",
              "      <td></td>\n",
              "    </tr>\n",
              "    <tr>\n",
              "      <th>5</th>\n",
              "      <td>20000.0</td>\n",
              "      <td>36 months</td>\n",
              "      <td>13.33</td>\n",
              "      <td>677.07</td>\n",
              "      <td>C</td>\n",
              "      <td>C3</td>\n",
              "      <td>HR Specialist</td>\n",
              "      <td>10+ years</td>\n",
              "      <td>MORTGAGE</td>\n",
              "      <td>86788.0</td>\n",
              "      <td>...</td>\n",
              "      <td>0.0</td>\n",
              "      <td>25757.0</td>\n",
              "      <td>100.6</td>\n",
              "      <td>23.0</td>\n",
              "      <td>f</td>\n",
              "      <td>INDIVIDUAL</td>\n",
              "      <td>4.0</td>\n",
              "      <td>0.0</td>\n",
              "      <td>1726 Cooper Passage Suite 129</td>\n",
              "      <td></td>\n",
              "    </tr>\n",
              "    <tr>\n",
              "      <th>6</th>\n",
              "      <td>18000.0</td>\n",
              "      <td>36 months</td>\n",
              "      <td>5.32</td>\n",
              "      <td>542.07</td>\n",
              "      <td>A</td>\n",
              "      <td>A1</td>\n",
              "      <td>Software Development Engineer</td>\n",
              "      <td>2 years</td>\n",
              "      <td>MORTGAGE</td>\n",
              "      <td>125000.0</td>\n",
              "      <td>...</td>\n",
              "      <td>0.0</td>\n",
              "      <td>4178.0</td>\n",
              "      <td>4.9</td>\n",
              "      <td>25.0</td>\n",
              "      <td>f</td>\n",
              "      <td>INDIVIDUAL</td>\n",
              "      <td>3.0</td>\n",
              "      <td>0.0</td>\n",
              "      <td>1008 Erika Vista Suite 748</td>\n",
              "      <td></td>\n",
              "    </tr>\n",
              "    <tr>\n",
              "      <th>7</th>\n",
              "      <td>13000.0</td>\n",
              "      <td>36 months</td>\n",
              "      <td>11.14</td>\n",
              "      <td>426.47</td>\n",
              "      <td>B</td>\n",
              "      <td>B2</td>\n",
              "      <td>Office Depot</td>\n",
              "      <td>10+ years</td>\n",
              "      <td>RENT</td>\n",
              "      <td>46000.0</td>\n",
              "      <td>...</td>\n",
              "      <td>0.0</td>\n",
              "      <td>13425.0</td>\n",
              "      <td>64.5</td>\n",
              "      <td>15.0</td>\n",
              "      <td>f</td>\n",
              "      <td>INDIVIDUAL</td>\n",
              "      <td>0.0</td>\n",
              "      <td>0.0</td>\n",
              "      <td>USCGC Nunez</td>\n",
              "      <td></td>\n",
              "    </tr>\n",
              "    <tr>\n",
              "      <th>8</th>\n",
              "      <td>18900.0</td>\n",
              "      <td>60 months</td>\n",
              "      <td>10.99</td>\n",
              "      <td>410.84</td>\n",
              "      <td>B</td>\n",
              "      <td>B3</td>\n",
              "      <td>Application Architect</td>\n",
              "      <td>10+ years</td>\n",
              "      <td>RENT</td>\n",
              "      <td>103000.0</td>\n",
              "      <td>...</td>\n",
              "      <td>0.0</td>\n",
              "      <td>18637.0</td>\n",
              "      <td>32.9</td>\n",
              "      <td>40.0</td>\n",
              "      <td>w</td>\n",
              "      <td>INDIVIDUAL</td>\n",
              "      <td>3.0</td>\n",
              "      <td>0.0</td>\n",
              "      <td>USCGC Tran</td>\n",
              "      <td></td>\n",
              "    </tr>\n",
              "    <tr>\n",
              "      <th>9</th>\n",
              "      <td>26300.0</td>\n",
              "      <td>36 months</td>\n",
              "      <td>16.29</td>\n",
              "      <td>928.40</td>\n",
              "      <td>C</td>\n",
              "      <td>C5</td>\n",
              "      <td>Regado Biosciences</td>\n",
              "      <td>3 years</td>\n",
              "      <td>MORTGAGE</td>\n",
              "      <td>115000.0</td>\n",
              "      <td>...</td>\n",
              "      <td>0.0</td>\n",
              "      <td>22171.0</td>\n",
              "      <td>82.4</td>\n",
              "      <td>37.0</td>\n",
              "      <td>f</td>\n",
              "      <td>INDIVIDUAL</td>\n",
              "      <td>1.0</td>\n",
              "      <td>0.0</td>\n",
              "      <td>3390 Luis Rue</td>\n",
              "      <td></td>\n",
              "    </tr>\n",
              "  </tbody>\n",
              "</table>\n",
              "<p>10 rows × 28 columns</p>\n",
              "</div>\n",
              "    <div class=\"colab-df-buttons\">\n",
              "\n",
              "  <div class=\"colab-df-container\">\n",
              "    <button class=\"colab-df-convert\" onclick=\"convertToInteractive('df-b5b28c9e-ddab-49e2-8342-b5a48e1f77db')\"\n",
              "            title=\"Convert this dataframe to an interactive table.\"\n",
              "            style=\"display:none;\">\n",
              "\n",
              "  <svg xmlns=\"http://www.w3.org/2000/svg\" height=\"24px\" viewBox=\"0 -960 960 960\">\n",
              "    <path d=\"M120-120v-720h720v720H120Zm60-500h600v-160H180v160Zm220 220h160v-160H400v160Zm0 220h160v-160H400v160ZM180-400h160v-160H180v160Zm440 0h160v-160H620v160ZM180-180h160v-160H180v160Zm440 0h160v-160H620v160Z\"/>\n",
              "  </svg>\n",
              "    </button>\n",
              "\n",
              "  <style>\n",
              "    .colab-df-container {\n",
              "      display:flex;\n",
              "      gap: 12px;\n",
              "    }\n",
              "\n",
              "    .colab-df-convert {\n",
              "      background-color: #E8F0FE;\n",
              "      border: none;\n",
              "      border-radius: 50%;\n",
              "      cursor: pointer;\n",
              "      display: none;\n",
              "      fill: #1967D2;\n",
              "      height: 32px;\n",
              "      padding: 0 0 0 0;\n",
              "      width: 32px;\n",
              "    }\n",
              "\n",
              "    .colab-df-convert:hover {\n",
              "      background-color: #E2EBFA;\n",
              "      box-shadow: 0px 1px 2px rgba(60, 64, 67, 0.3), 0px 1px 3px 1px rgba(60, 64, 67, 0.15);\n",
              "      fill: #174EA6;\n",
              "    }\n",
              "\n",
              "    .colab-df-buttons div {\n",
              "      margin-bottom: 4px;\n",
              "    }\n",
              "\n",
              "    [theme=dark] .colab-df-convert {\n",
              "      background-color: #3B4455;\n",
              "      fill: #D2E3FC;\n",
              "    }\n",
              "\n",
              "    [theme=dark] .colab-df-convert:hover {\n",
              "      background-color: #434B5C;\n",
              "      box-shadow: 0px 1px 3px 1px rgba(0, 0, 0, 0.15);\n",
              "      filter: drop-shadow(0px 1px 2px rgba(0, 0, 0, 0.3));\n",
              "      fill: #FFFFFF;\n",
              "    }\n",
              "  </style>\n",
              "\n",
              "    <script>\n",
              "      const buttonEl =\n",
              "        document.querySelector('#df-b5b28c9e-ddab-49e2-8342-b5a48e1f77db button.colab-df-convert');\n",
              "      buttonEl.style.display =\n",
              "        google.colab.kernel.accessAllowed ? 'block' : 'none';\n",
              "\n",
              "      async function convertToInteractive(key) {\n",
              "        const element = document.querySelector('#df-b5b28c9e-ddab-49e2-8342-b5a48e1f77db');\n",
              "        const dataTable =\n",
              "          await google.colab.kernel.invokeFunction('convertToInteractive',\n",
              "                                                    [key], {});\n",
              "        if (!dataTable) return;\n",
              "\n",
              "        const docLinkHtml = 'Like what you see? Visit the ' +\n",
              "          '<a target=\"_blank\" href=https://colab.research.google.com/notebooks/data_table.ipynb>data table notebook</a>'\n",
              "          + ' to learn more about interactive tables.';\n",
              "        element.innerHTML = '';\n",
              "        dataTable['output_type'] = 'display_data';\n",
              "        await google.colab.output.renderOutput(dataTable, element);\n",
              "        const docLink = document.createElement('div');\n",
              "        docLink.innerHTML = docLinkHtml;\n",
              "        element.appendChild(docLink);\n",
              "      }\n",
              "    </script>\n",
              "  </div>\n",
              "\n",
              "\n",
              "    <div id=\"df-120dd508-8902-4117-afc2-8edc68425992\">\n",
              "      <button class=\"colab-df-quickchart\" onclick=\"quickchart('df-120dd508-8902-4117-afc2-8edc68425992')\"\n",
              "                title=\"Suggest charts\"\n",
              "                style=\"display:none;\">\n",
              "\n",
              "<svg xmlns=\"http://www.w3.org/2000/svg\" height=\"24px\"viewBox=\"0 0 24 24\"\n",
              "     width=\"24px\">\n",
              "    <g>\n",
              "        <path d=\"M19 3H5c-1.1 0-2 .9-2 2v14c0 1.1.9 2 2 2h14c1.1 0 2-.9 2-2V5c0-1.1-.9-2-2-2zM9 17H7v-7h2v7zm4 0h-2V7h2v10zm4 0h-2v-4h2v4z\"/>\n",
              "    </g>\n",
              "</svg>\n",
              "      </button>\n",
              "\n",
              "<style>\n",
              "  .colab-df-quickchart {\n",
              "      --bg-color: #E8F0FE;\n",
              "      --fill-color: #1967D2;\n",
              "      --hover-bg-color: #E2EBFA;\n",
              "      --hover-fill-color: #174EA6;\n",
              "      --disabled-fill-color: #AAA;\n",
              "      --disabled-bg-color: #DDD;\n",
              "  }\n",
              "\n",
              "  [theme=dark] .colab-df-quickchart {\n",
              "      --bg-color: #3B4455;\n",
              "      --fill-color: #D2E3FC;\n",
              "      --hover-bg-color: #434B5C;\n",
              "      --hover-fill-color: #FFFFFF;\n",
              "      --disabled-bg-color: #3B4455;\n",
              "      --disabled-fill-color: #666;\n",
              "  }\n",
              "\n",
              "  .colab-df-quickchart {\n",
              "    background-color: var(--bg-color);\n",
              "    border: none;\n",
              "    border-radius: 50%;\n",
              "    cursor: pointer;\n",
              "    display: none;\n",
              "    fill: var(--fill-color);\n",
              "    height: 32px;\n",
              "    padding: 0;\n",
              "    width: 32px;\n",
              "  }\n",
              "\n",
              "  .colab-df-quickchart:hover {\n",
              "    background-color: var(--hover-bg-color);\n",
              "    box-shadow: 0 1px 2px rgba(60, 64, 67, 0.3), 0 1px 3px 1px rgba(60, 64, 67, 0.15);\n",
              "    fill: var(--button-hover-fill-color);\n",
              "  }\n",
              "\n",
              "  .colab-df-quickchart-complete:disabled,\n",
              "  .colab-df-quickchart-complete:disabled:hover {\n",
              "    background-color: var(--disabled-bg-color);\n",
              "    fill: var(--disabled-fill-color);\n",
              "    box-shadow: none;\n",
              "  }\n",
              "\n",
              "  .colab-df-spinner {\n",
              "    border: 2px solid var(--fill-color);\n",
              "    border-color: transparent;\n",
              "    border-bottom-color: var(--fill-color);\n",
              "    animation:\n",
              "      spin 1s steps(1) infinite;\n",
              "  }\n",
              "\n",
              "  @keyframes spin {\n",
              "    0% {\n",
              "      border-color: transparent;\n",
              "      border-bottom-color: var(--fill-color);\n",
              "      border-left-color: var(--fill-color);\n",
              "    }\n",
              "    20% {\n",
              "      border-color: transparent;\n",
              "      border-left-color: var(--fill-color);\n",
              "      border-top-color: var(--fill-color);\n",
              "    }\n",
              "    30% {\n",
              "      border-color: transparent;\n",
              "      border-left-color: var(--fill-color);\n",
              "      border-top-color: var(--fill-color);\n",
              "      border-right-color: var(--fill-color);\n",
              "    }\n",
              "    40% {\n",
              "      border-color: transparent;\n",
              "      border-right-color: var(--fill-color);\n",
              "      border-top-color: var(--fill-color);\n",
              "    }\n",
              "    60% {\n",
              "      border-color: transparent;\n",
              "      border-right-color: var(--fill-color);\n",
              "    }\n",
              "    80% {\n",
              "      border-color: transparent;\n",
              "      border-right-color: var(--fill-color);\n",
              "      border-bottom-color: var(--fill-color);\n",
              "    }\n",
              "    90% {\n",
              "      border-color: transparent;\n",
              "      border-bottom-color: var(--fill-color);\n",
              "    }\n",
              "  }\n",
              "</style>\n",
              "\n",
              "      <script>\n",
              "        async function quickchart(key) {\n",
              "          const quickchartButtonEl =\n",
              "            document.querySelector('#' + key + ' button');\n",
              "          quickchartButtonEl.disabled = true;  // To prevent multiple clicks.\n",
              "          quickchartButtonEl.classList.add('colab-df-spinner');\n",
              "          try {\n",
              "            const charts = await google.colab.kernel.invokeFunction(\n",
              "                'suggestCharts', [key], {});\n",
              "          } catch (error) {\n",
              "            console.error('Error during call to suggestCharts:', error);\n",
              "          }\n",
              "          quickchartButtonEl.classList.remove('colab-df-spinner');\n",
              "          quickchartButtonEl.classList.add('colab-df-quickchart-complete');\n",
              "        }\n",
              "        (() => {\n",
              "          let quickchartButtonEl =\n",
              "            document.querySelector('#df-120dd508-8902-4117-afc2-8edc68425992 button');\n",
              "          quickchartButtonEl.style.display =\n",
              "            google.colab.kernel.accessAllowed ? 'block' : 'none';\n",
              "        })();\n",
              "      </script>\n",
              "    </div>\n",
              "\n",
              "    </div>\n",
              "  </div>\n"
            ],
            "application/vnd.google.colaboratory.intrinsic+json": {
              "type": "dataframe",
              "variable_name": "dataset_after_removing_outliers"
            }
          },
          "metadata": {},
          "execution_count": 22
        }
      ],
      "source": [
        "# Plotting the box for the dataset after removing the outliers\n",
        "\n",
        "dataset_after_removing_outliers = new_df_with_no_outliers.toPandas()\n",
        "dataset_after_removing_outliers.head(10)"
      ]
    },
    {
      "cell_type": "code",
      "execution_count": 23,
      "metadata": {
        "colab": {
          "base_uri": "https://localhost:8080/",
          "height": 603
        },
        "id": "2WxWaXrGOYio",
        "outputId": "b798dcab-0962-4dda-deee-d3d86444612b"
      },
      "outputs": [
        {
          "output_type": "display_data",
          "data": {
            "text/plain": [
              "<Figure size 1500x800 with 16 Axes>"
            ],
            "image/png": "[encoded data removed]"
          },
          "metadata": {}
        }
      ],
      "source": [
        "import matplotlib.pyplot as plt\n",
        "import seaborn as sns\n",
        "\n",
        "# Use the correct list of numeric columns\n",
        "# true_numeric_cols is defined in cell TBpeMXrtcnr6\n",
        "numeric_columns_for_plotting = true_numeric_cols\n",
        "\n",
        "fig,ax = plt.subplots(2, len(numeric_columns_for_plotting),figsize=(15,8)) # Adjust the number of columns in subplots\n",
        "for i,df in enumerate([original_numerical_df,dataset_after_removing_outliers]):\n",
        "\n",
        "    for j, col in enumerate(numeric_columns_for_plotting): # Iterate through the correct list of columns\n",
        "        sns.boxplot(data = df, y=col,ax=ax[i][j])\n",
        "\n",
        "plt.tight_layout() # Add tight_layout to prevent overlapping titles/labels\n",
        "plt.show() # Display the plots"
      ]
    },
    {
      "cell_type": "code",
      "execution_count": 24,
      "metadata": {
        "colab": {
          "base_uri": "https://localhost:8080/"
        },
        "id": "x-liWGVBOYn2",
        "outputId": "74a439ad-0dfc-4706-e12d-8240f0857439"
      },
      "outputs": [
        {
          "output_type": "stream",
          "name": "stdout",
          "text": [
            "Number of rows: loan_amnt               290078\n",
            "term                    290078\n",
            "int_rate                290078\n",
            "installment             290078\n",
            "grade                   290078\n",
            "sub_grade               290078\n",
            "emp_title               287316\n",
            "emp_length              290078\n",
            "home_ownership          290078\n",
            "annual_inc              290078\n",
            "verification_status     290078\n",
            "issue_d                 290078\n",
            "loan_status             290078\n",
            "purpose                 290078\n",
            "title                   288823\n",
            "dti                     290078\n",
            "earliest_cr_line        290078\n",
            "open_acc                290078\n",
            "pub_rec                 290078\n",
            "revol_bal               290078\n",
            "revol_util              290078\n",
            "total_acc               290078\n",
            "initial_list_status     290078\n",
            "application_type        290078\n",
            "mort_acc                290078\n",
            "pub_rec_bankruptcies    290078\n",
            "address                 290078\n",
            "zip_code                290078\n",
            "dtype: int64\n",
            "Number of columns: 28\n"
          ]
        }
      ],
      "source": [
        "print(f\"Number of rows: {dataset_after_removing_outliers.count()}\")\n",
        "print(f\"Number of columns: {len(dataset_after_removing_outliers.columns)}\")"
      ]
    },
    {
      "cell_type": "code",
      "execution_count": 25,
      "metadata": {
        "colab": {
          "base_uri": "https://localhost:8080/"
        },
        "id": "7OzgMEKWaQ-i",
        "outputId": "18df4ecf-837f-41b7-d711-4a6a02e263bc"
      },
      "outputs": [
        {
          "output_type": "stream",
          "name": "stdout",
          "text": [
            "Requirement already satisfied: imbalanced-learn in /usr/local/lib/python3.11/dist-packages (0.13.0)\n",
            "Requirement already satisfied: numpy<3,>=1.24.3 in /usr/local/lib/python3.11/dist-packages (from imbalanced-learn) (2.0.2)\n",
            "Requirement already satisfied: scipy<2,>=1.10.1 in /usr/local/lib/python3.11/dist-packages (from imbalanced-learn) (1.16.0)\n",
            "Requirement already satisfied: scikit-learn<2,>=1.3.2 in /usr/local/lib/python3.11/dist-packages (from imbalanced-learn) (1.6.1)\n",
            "Requirement already satisfied: sklearn-compat<1,>=0.1 in /usr/local/lib/python3.11/dist-packages (from imbalanced-learn) (0.1.3)\n",
            "Requirement already satisfied: joblib<2,>=1.1.1 in /usr/local/lib/python3.11/dist-packages (from imbalanced-learn) (1.5.1)\n",
            "Requirement already satisfied: threadpoolctl<4,>=2.0.0 in /usr/local/lib/python3.11/dist-packages (from imbalanced-learn) (3.6.0)\n"
          ]
        }
      ],
      "source": [
        "#Undersampling of data\n",
        "\n",
        "!pip install -U imbalanced-learn\n"
      ]
    },
    {
      "cell_type": "code",
      "execution_count": 26,
      "metadata": {
        "colab": {
          "base_uri": "https://localhost:8080/"
        },
        "id": "QFFnecSkkcF5",
        "outputId": "92513ffb-77c0-4f75-af47-8c8761bddf9e"
      },
      "outputs": [
        {
          "output_type": "stream",
          "name": "stdout",
          "text": [
            "+-----------+------+\n",
            "|loan_status| count|\n",
            "+-----------+------+\n",
            "| Fully Paid|232518|\n",
            "|Charged Off| 57560|\n",
            "+-----------+------+\n",
            "\n",
            "Class distribution after undersampling:\n",
            "+-----------+-----+\n",
            "|loan_status|count|\n",
            "+-----------+-----+\n",
            "| Fully Paid|57919|\n",
            "|Charged Off|57560|\n",
            "+-----------+-----+\n",
            "\n"
          ]
        }
      ],
      "source": [
        "# Undersampling of data using PySpark\n",
        "\n",
        "# The 'new_df_with_no_outliers' is the PySpark DataFrame after outlier removal.\n",
        "# Undersampling in PySpark requires a different approach than using libraries like imbalanced-learn,\n",
        "# which are designed for Pandas DataFrames.\n",
        "# A common approach in PySpark is to sample the majority class to match the minority class size.\n",
        "\n",
        "# First, let's check the class distribution of the target variable 'loan_status'\n",
        "class_counts = new_df_with_no_outliers.groupBy(\"loan_status\").count()\n",
        "class_counts.show()\n",
        "\n",
        "# Assuming 'Fully Paid' is the majority class and 'Charged Off' is the minority class\n",
        "# (You should verify this from the class_counts output)\n",
        "majority_class_name = \"Fully Paid\" # Replace with the actual majority class name if different\n",
        "minority_class_name = \"Charged Off\" # Replace with the actual minority class name if different\n",
        "\n",
        "# Get the count of the minority class\n",
        "minority_count = class_counts.filter(f.col(\"loan_status\") == minority_class_name).select(\"count\").collect()[0][0]\n",
        "\n",
        "# Filter the DataFrame into majority and minority classes\n",
        "majority_df = new_df_with_no_outliers.filter(f.col(\"loan_status\") == majority_class_name)\n",
        "minority_df = new_df_with_no_outliers.filter(f.col(\"loan_status\") == minority_class_name)\n",
        "\n",
        "# Undersample the majority class\n",
        "# The fraction is calculated based on the ratio of minority count to majority count\n",
        "majority_count_val = class_counts.filter(f.col(\"loan_status\") == majority_class_name).select(\"count\").collect()[0][0]\n",
        "sampling_fraction = minority_count / majority_count_val\n",
        "\n",
        "undersampled_majority_df = majority_df.sample(False, sampling_fraction, seed=42)\n",
        "\n",
        "# Combine the undersampled majority class with the minority class\n",
        "undersampled_df = undersampled_majority_df.unionAll(minority_df)\n",
        "\n",
        "# Show the class distribution after undersampling\n",
        "print(\"Class distribution after undersampling:\")\n",
        "undersampled_df.groupBy(\"loan_status\").count().show()\n",
        "\n",
        "# Now 'undersampled_df' is your PySpark DataFrame with balanced classes.\n",
        "# You can proceed with model training using this DataFrame."
      ]
    },
    {
      "cell_type": "markdown",
      "metadata": {
        "id": "Eyzj_R9zSEDy"
      },
      "source": [
        "#Model Training and building"
      ]
    },
    {
      "cell_type": "code",
      "execution_count": 27,
      "metadata": {
        "id": "PI8QCLbYOYqg"
      },
      "outputs": [],
      "source": [
        "from pyspark.ml.feature import StringIndexer, OneHotEncoder, VectorAssembler\n",
        "from pyspark.ml.classification import LogisticRegression, RandomForestClassifier\n",
        "from pyspark.ml import Pipeline\n",
        "from pyspark.ml.evaluation import MulticlassClassificationEvaluator"
      ]
    },
    {
      "cell_type": "code",
      "execution_count": 28,
      "metadata": {
        "id": "EUtkO0ivOYtI"
      },
      "outputs": [],
      "source": [
        "# Step : Index target label\n",
        "label_indexer = StringIndexer(inputCol=\"loan_status\", outputCol=\"label\", handleInvalid=\"keep\")\n",
        "\n",
        "# Step 2: Identify categorical and numerical columns using the PySpark DataFrame\n",
        "categorical_cols = [field for (field, dtype) in undersampled_df.dtypes if dtype == \"string\" and field != \"loan_status\"]\n",
        "numerical_cols = [field for (field, dtype) in undersampled_df.dtypes if dtype in [\"int\", \"double\", \"float\"]]"
      ]
    },
    {
      "cell_type": "code",
      "execution_count": 29,
      "metadata": {
        "id": "WzRg32uEyxbv"
      },
      "outputs": [],
      "source": [
        "# Step : Split Data using the PySpark DataFrame\n",
        "train_df, test_df = undersampled_df.randomSplit([0.8, 0.2], seed=42)"
      ]
    },
    {
      "cell_type": "markdown",
      "metadata": {
        "id": "E03v4wTGmCst"
      },
      "source": [
        "## One Hot Encoding"
      ]
    },
    {
      "cell_type": "code",
      "execution_count": 30,
      "metadata": {
        "id": "bXdCM8o3OYvs"
      },
      "outputs": [],
      "source": [
        "# Step : Index and encode categorical features\n",
        "# Filter out categorical columns with less than 2 distinct values in the training data\n",
        "categorical_cols_filtered = [col for col in categorical_cols if train_df.select(col).distinct().count() >= 2]\n",
        "\n",
        "indexers = [StringIndexer(inputCol=column, outputCol=column + \"_indexed\", handleInvalid=\"keep\") for column in categorical_cols_filtered]\n",
        "encoders = [OneHotEncoder(inputCol=col + \"_indexed\", outputCol=col + \"_ohe\") for col in categorical_cols_filtered]\n",
        "\n",
        "# Step 4: Combine all features\n",
        "assembler_inputs = [col + \"_ohe\" for col in categorical_cols_filtered] + numerical_cols\n",
        "assembler = VectorAssembler(inputCols=assembler_inputs, outputCol=\"features\")"
      ]
    },
    {
      "cell_type": "markdown",
      "source": [
        "## Logistic Regression Model"
      ],
      "metadata": {
        "id": "C7LhnjhSelIH"
      }
    },
    {
      "cell_type": "code",
      "execution_count": 31,
      "metadata": {
        "id": "BVAgmXJel2Km"
      },
      "outputs": [],
      "source": [
        "# Step : Model Definitions\n",
        "lr = LogisticRegression(featuresCol=\"features\", labelCol=\"label\")"
      ]
    },
    {
      "cell_type": "code",
      "execution_count": 32,
      "metadata": {
        "id": "CpbtT15Gl35s"
      },
      "outputs": [],
      "source": [
        "# Step : Build Pipelines\n",
        "lr_pipeline = Pipeline(stages=[label_indexer] + indexers + encoders + [assembler, lr])"
      ]
    },
    {
      "cell_type": "code",
      "execution_count": 33,
      "metadata": {
        "id": "G9M9OYwTw3sZ"
      },
      "outputs": [],
      "source": [
        "lr_model = lr_pipeline.fit(train_df)"
      ]
    },
    {
      "cell_type": "code",
      "execution_count": 34,
      "metadata": {
        "id": "rq2_dpjZ4uiw"
      },
      "outputs": [],
      "source": [
        "# Step : Predict on Test Data\n",
        "lr_predictions = lr_model.transform(test_df)"
      ]
    },
    {
      "cell_type": "code",
      "execution_count": 35,
      "metadata": {
        "id": "U0K8AHvM4zsN"
      },
      "outputs": [],
      "source": [
        "# Step : Evaluate\n",
        "evaluator = MulticlassClassificationEvaluator(labelCol=\"label\", predictionCol=\"prediction\", metricName=\"accuracy\")\n",
        "\n",
        "lr_accuracy = evaluator.evaluate(lr_predictions)"
      ]
    },
    {
      "cell_type": "code",
      "execution_count": 36,
      "metadata": {
        "colab": {
          "base_uri": "https://localhost:8080/"
        },
        "id": "Q9x7sLzv44BE",
        "outputId": "cf84f126-8990-44da-acc5-13ad5d6a4b52"
      },
      "outputs": [
        {
          "output_type": "stream",
          "name": "stdout",
          "text": [
            "Logistic Regression Accuracy: 0.6367\n"
          ]
        }
      ],
      "source": [
        "print(f\"Logistic Regression Accuracy: {lr_accuracy:.4f}\")"
      ]
    },
    {
      "cell_type": "code",
      "execution_count": 37,
      "metadata": {
        "id": "68e68d56"
      },
      "outputs": [],
      "source": [
        "# Stop the existing Spark session if it's running\n",
        "spark.stop()\n",
        "\n",
        "# Start Spark session with increased memory allocation\n",
        "spark = SparkSession.builder.appName(\"LoanDataPrediction\") \\\n",
        "    .config(\"spark.driver.memory\", \"4g\") \\\n",
        "    .config(\"spark.executor.memory\", \"4g\") \\\n",
        "    .getOrCreate()"
      ]
    }
  ],
  "metadata": {
    "colab": {
      "provenance": [],
      "toc_visible": true
    },
    "kernelspec": {
      "display_name": "Python 3",
      "name": "python3"
    },
    "language_info": {
      "name": "python"
    }
  },
  "nbformat": 4,
  "nbformat_minor": 0
}